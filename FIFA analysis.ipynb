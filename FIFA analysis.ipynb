{
 "cells": [
  {
   "cell_type": "markdown",
   "id": "060e2dee",
   "metadata": {},
   "source": [
    "# FIFA FC24 Analysis"
   ]
  },
  {
   "cell_type": "code",
   "execution_count": 32,
   "id": "56e24829",
   "metadata": {},
   "outputs": [
    {
     "name": "stdout",
     "output_type": "stream",
     "text": [
      ",Name,Nation,Club,Position,Age,Overall,Pace,Shooting,Passing,Dribbling,Defending,Physicality,Acceleration,Sprint,Positioning,Finishing,Shot,Long,Volleys,Penalties,Vision,Crossing,Free,Curve,Agility,Balance,Reactions,Ball,Composure,Interceptions,Heading,Def,Standing,Sliding,Jumping,Stamina,Strength,Aggression,Att work rate,Def work rate,Preferred foot,Weak foot,Skill moves,URL,Gender,GK\n",
      "0,Kylian Mbappé,France,Paris SG,ST,24,91,97,90,80,93,36,78,97,97,93,94,86,71,84,84,83,78,69,80,93,82,93,92,88,38,73,26,34,32,88,88,77,64,High,Low,Right,4,5,https://www.ea.com/games/ea-sports-fc/ratings/player-ratings/kylian-mbappe/231747,M,\n",
      "1,Erling Haaland,Norway,Manchester City,ST,23,91,89,93,66,79,45,88,82,94,96,96,77,53,90,84,74,47,62,77,76,72,94,82,87,43,83,38,47,29,93,76,93,87,High,Medium,Left,3,3,https://www.ea.com/games/ea-sports-fc/ratings/player-ratings/erling-haaland/239085,M,\n",
      "2,Kevin De Bruyne,Belgium,Manchester City,CM,32,91,72,88,94,86,65,78,72,72,88,85,94,94,83,83,95,95,83,92,74,78,92,92,88,66,55,66,70,53,72,88,"
     ]
    }
   ],
   "source": [
    "!hadoop fs -head /user/itv010025/data/all_players.csv"
   ]
  },
  {
   "cell_type": "code",
   "execution_count": 5,
   "id": "c5165769",
   "metadata": {},
   "outputs": [],
   "source": [
    "fifa_df.createOrReplaceTempView(\"fifa\")"
   ]
  },
  {
   "cell_type": "markdown",
   "id": "22b50414",
   "metadata": {},
   "source": [
    "## Business Case 1: Player Comparison <br>\n",
    "#### Objective: Compare the overall performance of Kylian Mbappé and Erling Haaland."
   ]
  },
  {
   "cell_type": "code",
   "execution_count": 6,
   "id": "2c5d39e8",
   "metadata": {},
   "outputs": [
    {
     "name": "stdout",
     "output_type": "stream",
     "text": [
      "+--------------+-------+----+--------+-------+---------+---------+-----------+\n",
      "|          Name|Overall|Pace|Shooting|Passing|Dribbling|Defending|Physicality|\n",
      "+--------------+-------+----+--------+-------+---------+---------+-----------+\n",
      "| Kylian Mbappé|     91|  97|      90|     80|       93|       36|         78|\n",
      "|Erling Haaland|     91|  89|      93|     66|       79|       45|         88|\n",
      "+--------------+-------+----+--------+-------+---------+---------+-----------+\n",
      "\n"
     ]
    }
   ],
   "source": [
    "spark.sql(\n",
    "\"\"\"\n",
    "SELECT Name, Overall, Pace, Shooting, Passing, Dribbling, Defending, Physicality\n",
    "FROM fifa\n",
    "WHERE Name IN ('Kylian Mbappé', 'Erling Haaland');\n",
    "\"\"\").show()"
   ]
  },
  {
   "cell_type": "markdown",
   "id": "3081bd05",
   "metadata": {},
   "source": [
    "## Business Case 2: Preferred Foot Analysis <br>\n",
    "#### Objective: Analyze the distribution of preferred foot among players."
   ]
  },
  {
   "cell_type": "code",
   "execution_count": 7,
   "id": "35e2c924",
   "metadata": {},
   "outputs": [
    {
     "name": "stdout",
     "output_type": "stream",
     "text": [
      "+--------------+-----+\n",
      "|Preferred foot|Count|\n",
      "+--------------+-----+\n",
      "|          Left| 4080|\n",
      "|         Right|13246|\n",
      "+--------------+-----+\n",
      "\n"
     ]
    }
   ],
   "source": [
    "spark.sql(\n",
    "\"\"\"\n",
    "SELECT `Preferred foot`, COUNT(*) as Count\n",
    "FROM fifa\n",
    "GROUP BY `Preferred foot`;\n",
    "\"\"\").show()"
   ]
  },
  {
   "cell_type": "markdown",
   "id": "38b165ca",
   "metadata": {},
   "source": [
    "## Business Case 3: Age Distribution and Average Overall Rating <br>\n",
    "#### Objective: Analyze the distribution of player ages and calculate the average overall rating for each age group."
   ]
  },
  {
   "cell_type": "code",
   "execution_count": 12,
   "id": "271f2c33",
   "metadata": {},
   "outputs": [
    {
     "name": "stdout",
     "output_type": "stream",
     "text": [
      "+--------+-----------------+\n",
      "|AgeGroup| AvgOverallRating|\n",
      "+--------+-----------------+\n",
      "|   16-20|60.87872248597324|\n",
      "|   21-25|66.19428831839586|\n",
      "|   26-30|69.14793556748751|\n",
      "|   31-35|69.48864073931459|\n",
      "|     36+|69.54439252336448|\n",
      "+--------+-----------------+\n",
      "\n"
     ]
    }
   ],
   "source": [
    "spark.sql(\n",
    "\"\"\"\n",
    "SELECT \n",
    "  CASE \n",
    "    WHEN Age BETWEEN 16 AND 20 THEN '16-20'\n",
    "    WHEN Age BETWEEN 21 AND 25 THEN '21-25'\n",
    "    WHEN Age BETWEEN 26 AND 30 THEN '26-30'\n",
    "    WHEN Age BETWEEN 31 AND 35 THEN '31-35'\n",
    "    ELSE '36+'\n",
    "  END as AgeGroup,\n",
    "  AVG(Overall) as AvgOverallRating\n",
    "FROM fifa\n",
    "GROUP BY AgeGroup\n",
    "ORDER BY AgeGroup\n",
    "\"\"\").show()"
   ]
  },
  {
   "cell_type": "markdown",
   "id": "037ecfd6",
   "metadata": {},
   "source": [
    "## Business Case 4: Goalkeeper Analysis <br>\n",
    "#### Objective: Identify and analyze the goalkeepers in the dataset."
   ]
  },
  {
   "cell_type": "code",
   "execution_count": 13,
   "id": "d013ed6b",
   "metadata": {},
   "outputs": [
    {
     "name": "stdout",
     "output_type": "stream",
     "text": [
      "+--------------------+------------------+--------+-------+----+\n",
      "|                Name|              Club|Position|Overall|  GK|\n",
      "+--------------------+------------------+--------+-------+----+\n",
      "|    Thibaut Courtois|       Real Madrid|      GK|     90|93.0|\n",
      "|Marc-André ter St...|      FC Barcelona|      GK|     89|91.0|\n",
      "|             Alisson|         Liverpool|      GK|     89|89.0|\n",
      "|             Ederson|   Manchester City|      GK|     88|86.0|\n",
      "|           Jan Oblak|Atlético de Madrid|      GK|     88|87.0|\n",
      "|   Christiane Endler|                OL|      GK|     88|90.0|\n",
      "|        Mike Maignan|             Milan|      GK|     87|89.0|\n",
      "|        Gregor Kobel| Borussia Dortmund|      GK|     87|89.0|\n",
      "|Gianluigi Donnarumma|          Paris SG|      GK|     87|89.0|\n",
      "|        Manuel Neuer| FC Bayern München|      GK|     87|84.0|\n",
      "+--------------------+------------------+--------+-------+----+\n",
      "\n"
     ]
    }
   ],
   "source": [
    "spark.sql(\n",
    "\"\"\"\n",
    "SELECT Name, Club, Position, Overall, `GK`\n",
    "FROM fifa\n",
    "WHERE Position = 'GK'\n",
    "ORDER BY Overall DESC\n",
    "LIMIT 10\n",
    "\"\"\").show()"
   ]
  },
  {
   "cell_type": "markdown",
   "id": "cdf0adbe",
   "metadata": {},
   "source": [
    "## Business Case 5: Player Count by Nation <br>\n",
    "#### Objective: Determine the number of players from each nation."
   ]
  },
  {
   "cell_type": "code",
   "execution_count": 15,
   "id": "52d5311f",
   "metadata": {},
   "outputs": [
    {
     "name": "stdout",
     "output_type": "stream",
     "text": [
      "+-------------------+-----------+\n",
      "|             Nation|PlayerCount|\n",
      "+-------------------+-----------+\n",
      "|            England|       1619|\n",
      "|            Germany|       1345|\n",
      "|              Spain|       1085|\n",
      "|             France|        949|\n",
      "|          Argentina|        886|\n",
      "|      United States|        629|\n",
      "|              Italy|        487|\n",
      "|            Holland|        420|\n",
      "|             Sweden|        393|\n",
      "|Republic of Ireland|        387|\n",
      "|             Brazil|        386|\n",
      "|             Poland|        385|\n",
      "|           China PR|        368|\n",
      "|            Denmark|        347|\n",
      "|             Norway|        321|\n",
      "|           Portugal|        318|\n",
      "|     Korea Republic|        307|\n",
      "|            Austria|        296|\n",
      "|            Belgium|        291|\n",
      "|           Scotland|        287|\n",
      "+-------------------+-----------+\n",
      "only showing top 20 rows\n",
      "\n"
     ]
    }
   ],
   "source": [
    "spark.sql(\n",
    "\"\"\"\n",
    "SELECT Nation, COUNT(*) as PlayerCount\n",
    "FROM fifa\n",
    "GROUP BY Nation\n",
    "ORDER BY PlayerCount DESC\n",
    "\"\"\").show()"
   ]
  },
  {
   "cell_type": "markdown",
   "id": "a34e47a1",
   "metadata": {},
   "source": [
    "## Business Case 6: Position Distribution <br>\n",
    "#### Objective: Analyze the distribution of players across different positions."
   ]
  },
  {
   "cell_type": "code",
   "execution_count": 16,
   "id": "4d93c02f",
   "metadata": {},
   "outputs": [
    {
     "name": "stdout",
     "output_type": "stream",
     "text": [
      "+--------+-----------+\n",
      "|Position|PlayerCount|\n",
      "+--------+-----------+\n",
      "|      CB|       3121|\n",
      "|      ST|       2301|\n",
      "|      CM|       2129|\n",
      "|      GK|       1952|\n",
      "|     CDM|       1428|\n",
      "|      RB|       1115|\n",
      "|      LB|       1089|\n",
      "|     CAM|        943|\n",
      "|      LM|        892|\n",
      "|      RM|        870|\n",
      "|      RW|        434|\n",
      "|      LW|        392|\n",
      "|     RWB|        285|\n",
      "|     LWB|        256|\n",
      "|      CF|        119|\n",
      "+--------+-----------+\n",
      "\n"
     ]
    }
   ],
   "source": [
    "spark.sql(\n",
    "\"\"\"\n",
    "SELECT Position, COUNT(*) as PlayerCount\n",
    "FROM fifa\n",
    "GROUP BY Position\n",
    "ORDER BY PlayerCount DESC\n",
    "\"\"\").show()"
   ]
  },
  {
   "cell_type": "markdown",
   "id": "a4bda109",
   "metadata": {},
   "source": [
    "## Business Case 7: Age vs. Average Overall Rating <br>\n",
    "#### Objective: Explore the relationship between player age and their average overall rating."
   ]
  },
  {
   "cell_type": "code",
   "execution_count": 20,
   "id": "e7af6e73",
   "metadata": {},
   "outputs": [
    {
     "name": "stdout",
     "output_type": "stream",
     "text": [
      "+---+------------------+\n",
      "|Age|  AvgOverallRating|\n",
      "+---+------------------+\n",
      "| 17| 58.16101694915254|\n",
      "| 18|59.062814070351756|\n",
      "| 19|60.382716049382715|\n",
      "| 20| 62.18936567164179|\n",
      "| 21|  63.4764756201882|\n",
      "| 22|             65.08|\n",
      "| 23| 66.33098591549296|\n",
      "| 24|  67.5549964054637|\n",
      "| 25| 68.20266040688576|\n",
      "| 26| 68.56842105263158|\n",
      "| 27|  68.6711229946524|\n",
      "| 28| 69.39232209737828|\n",
      "| 29| 69.71163748712668|\n",
      "| 30| 69.69450549450549|\n",
      "| 31| 69.62763157894737|\n",
      "| 32|  69.6089552238806|\n",
      "| 33| 69.27186311787072|\n",
      "| 34| 69.13246753246753|\n",
      "| 35|        69.7421875|\n",
      "| 36|  70.3080808080808|\n",
      "+---+------------------+\n",
      "only showing top 20 rows\n",
      "\n"
     ]
    }
   ],
   "source": [
    "spark.sql(\n",
    "\"\"\"\n",
    "SELECT Age, AVG(Overall) as AvgOverallRating\n",
    "FROM fifa\n",
    "GROUP BY Age\n",
    "ORDER BY Age\n",
    "\"\"\").show()"
   ]
  },
  {
   "cell_type": "markdown",
   "id": "13504b8b",
   "metadata": {},
   "source": [
    "## Business Case 8: Players with the Highest Physicality  <br>\n",
    "#### Objective: Identify the top 10 players with the highest physicality."
   ]
  },
  {
   "cell_type": "code",
   "execution_count": 21,
   "id": "48746d27",
   "metadata": {},
   "outputs": [
    {
     "name": "stdout",
     "output_type": "stream",
     "text": [
      "+------------------+-----------------+--------+-----------+\n",
      "|              Name|             Club|Position|Physicality|\n",
      "+------------------+-----------------+--------+-----------+\n",
      "|  Thibaut Courtois|      Real Madrid|      GK|         90|\n",
      "|           Alisson|        Liverpool|      GK|         90|\n",
      "|Geoffrey Kondogbia|               OM|      CM|         89|\n",
      "|          Palhinha|           Fulham|     CDM|         89|\n",
      "|   Denzel Dumfries|            Inter|     RWB|         89|\n",
      "| Christiane Endler|               OL|      GK|         89|\n",
      "|     Lena Oberdorf|    VfL Wolfsburg|     CDM|         89|\n",
      "|  Sebastián Coates|      Sporting CP|      CB|         88|\n",
      "|    Erling Haaland|  Manchester City|      ST|         88|\n",
      "|      Manuel Neuer|FC Bayern München|      GK|         88|\n",
      "+------------------+-----------------+--------+-----------+\n",
      "\n"
     ]
    }
   ],
   "source": [
    "spark.sql(\n",
    "\"\"\"\n",
    "SELECT Name, Club, Position, Physicality\n",
    "FROM fifa\n",
    "ORDER BY Physicality DESC\n",
    "LIMIT 10;\n",
    "\n",
    "\"\"\").show()"
   ]
  },
  {
   "cell_type": "markdown",
   "id": "24751fa6",
   "metadata": {},
   "source": [
    "## Business Case 9: Skill Moves Distribution <br>\n",
    "#### Objective: Analyze the distribution of skill moves among players."
   ]
  },
  {
   "cell_type": "code",
   "execution_count": 23,
   "id": "dbbb9b5c",
   "metadata": {},
   "outputs": [
    {
     "name": "stdout",
     "output_type": "stream",
     "text": [
      "+-----------+-----------+\n",
      "|Skill moves|PlayerCount|\n",
      "+-----------+-----------+\n",
      "|          1|       1952|\n",
      "|          3|       6576|\n",
      "|          5|         59|\n",
      "|          4|       1230|\n",
      "|          2|       7509|\n",
      "+-----------+-----------+\n",
      "\n"
     ]
    }
   ],
   "source": [
    "spark.sql(\n",
    "\"\"\"\n",
    "SELECT `Skill moves`, COUNT(*) as PlayerCount\n",
    "FROM fifa\n",
    "GROUP BY `Skill moves`;\n",
    "\n",
    "\"\"\").show()\n"
   ]
  },
  {
   "cell_type": "markdown",
   "id": "c09f7c15",
   "metadata": {},
   "source": [
    "## Business Case 10: Players with High Passing and Shooting <br>\n",
    "#### Objective: Identify players with high passing and shooting attributes."
   ]
  },
  {
   "cell_type": "code",
   "execution_count": 24,
   "id": "fae4fcdd",
   "metadata": {},
   "outputs": [
    {
     "name": "stdout",
     "output_type": "stream",
     "text": [
      "+--------------------+-----------------+-------+--------+\n",
      "|                Name|             Club|Passing|Shooting|\n",
      "+--------------------+-----------------+-------+--------+\n",
      "|     Kevin De Bruyne|  Manchester City|     94|      88|\n",
      "|     Alexia Putellas|     FC Barcelona|     91|      90|\n",
      "|        Lionel Messi|   Inter Miami CF|     90|      87|\n",
      "|       Karim Benzema|       Al Ittihad|     83|      88|\n",
      "|          Harry Kane|FC Bayern München|     84|      93|\n",
      "|      Aitana Bonmatí|     FC Barcelona|     83|      84|\n",
      "|Caroline Graham H...|     FC Barcelona|     88|      86|\n",
      "|       Mohamed Salah|        Liverpool|     81|      87|\n",
      "|           Neymar Jr|         Al Hilal|     85|      83|\n",
      "|Marc-André ter St...|     FC Barcelona|     89|      85|\n",
      "+--------------------+-----------------+-------+--------+\n",
      "\n"
     ]
    }
   ],
   "source": [
    "spark.sql(\n",
    "\"\"\"\n",
    "SELECT Name, Club, Passing, Shooting\n",
    "FROM fifa\n",
    "WHERE Passing > 80 AND Shooting > 80\n",
    "ORDER BY Overall DESC\n",
    "LIMIT 10;\n",
    "\"\"\").show()"
   ]
  },
  {
   "cell_type": "markdown",
   "id": "efa63a71",
   "metadata": {},
   "source": [
    "## Business Case 11: Average Ratings by Club <br>\n",
    "#### Objective: Calculate the average overall rating for each club."
   ]
  },
  {
   "cell_type": "code",
   "execution_count": 25,
   "id": "ff427678",
   "metadata": {},
   "outputs": [
    {
     "name": "stdout",
     "output_type": "stream",
     "text": [
      "+------------------+-----------------+\n",
      "|              Club| AvgOverallRating|\n",
      "+------------------+-----------------+\n",
      "| FC Bayern München|80.47826086956522|\n",
      "|             Inter|79.95833333333333|\n",
      "|      FC Barcelona|79.50980392156863|\n",
      "|          Paris SG|78.81132075471699|\n",
      "|   Manchester City|78.17647058823529|\n",
      "|       Real Madrid|78.09677419354838|\n",
      "|           Chelsea|77.96491228070175|\n",
      "|    Manchester Utd|77.88461538461539|\n",
      "|    Real Madrid CF|77.56521739130434|\n",
      "|          Juventus|77.55319148936171|\n",
      "|Atlético de Madrid|             77.5|\n",
      "|             Milan|77.29629629629629|\n",
      "| Borussia Dortmund|77.07142857142857|\n",
      "|   Portland Thorns|77.03846153846153|\n",
      "|       Galatasaray|             77.0|\n",
      "|    San Diego Wave|76.95833333333333|\n",
      "|            Latium|            76.92|\n",
      "|         Napoli FC|76.73076923076923|\n",
      "|           Roma FC|76.62962962962963|\n",
      "|     VfL Wolfsburg|76.49090909090908|\n",
      "+------------------+-----------------+\n",
      "only showing top 20 rows\n",
      "\n"
     ]
    }
   ],
   "source": [
    "spark.sql(\n",
    "\"\"\"\n",
    "SELECT Club, AVG(Overall) as AvgOverallRating\n",
    "FROM fifa\n",
    "GROUP BY Club\n",
    "ORDER BY AvgOverallRating DESC;\n",
    "\n",
    "\"\"\").show()"
   ]
  },
  {
   "cell_type": "markdown",
   "id": "de367e0f",
   "metadata": {},
   "source": [
    "## Business Case 12: Analysis of Defenders\n",
    "#### Objective: Identify and analyze the top defenders based on their defending attributes."
   ]
  },
  {
   "cell_type": "code",
   "execution_count": 27,
   "id": "9435518a",
   "metadata": {},
   "outputs": [
    {
     "name": "stdout",
     "output_type": "stream",
     "text": [
      "+-----------------+---------------+--------+---------+\n",
      "|             Name|           Club|Position|Defending|\n",
      "+-----------------+---------------+--------+---------+\n",
      "|    Wendie Renard|             OL|      CB|       91|\n",
      "|        Mapi León|   FC Barcelona|      CB|       90|\n",
      "|       Rúben Dias|Manchester City|      CB|       89|\n",
      "|  Virgil van Dijk|      Liverpool|      CB|       89|\n",
      "|       Marquinhos|       Paris SG|      CB|       89|\n",
      "|    Irene Paredes|   FC Barcelona|      CB|       89|\n",
      "|    Paulina Dudek|       Paris SG|      CB|       88|\n",
      "|Kadeisha Buchanan|        Chelsea|      CB|       87|\n",
      "|   Chris Smalling|        Roma FC|      CB|       87|\n",
      "|     Thiago Silva|        Chelsea|      CB|       87|\n",
      "+-----------------+---------------+--------+---------+\n",
      "\n"
     ]
    }
   ],
   "source": [
    "spark.sql(\n",
    "\"\"\"\n",
    "SELECT Name, Club, Position, Defending\n",
    "FROM fifa\n",
    "WHERE Position IN ('CB', 'LB', 'RB', 'LWB', 'RWB')\n",
    "ORDER BY Defending DESC\n",
    "LIMIT 10;\n",
    "\"\"\").show()"
   ]
  },
  {
   "cell_type": "markdown",
   "id": "32e1533d",
   "metadata": {},
   "source": [
    "## Business Case 13: Players with High Stamina <br>\n",
    "#### Objective: Identify players with high stamina."
   ]
  },
  {
   "cell_type": "code",
   "execution_count": 28,
   "id": "dfba189b",
   "metadata": {},
   "outputs": [
    {
     "name": "stdout",
     "output_type": "stream",
     "text": [
      "+----------------+-----------------+--------+-------+\n",
      "|            Name|             Club|Position|Stamina|\n",
      "+----------------+-----------------+--------+-------+\n",
      "| Bruno Fernandes|   Manchester Utd|     CAM|     95|\n",
      "|Andrew Robertson|        Liverpool|      LB|     95|\n",
      "|    Koki Hinokio|      Stal Mielec|     CAM|     95|\n",
      "|  Joshua Kimmich|FC Bayern München|     CDM|     94|\n",
      "|  Nicolò Barella|            Inter|      CM|     94|\n",
      "| Gustavo Cuéllar|        Al Shabab|     CDM|     94|\n",
      "|            Fred|       Fenerbahçe|      CM|     94|\n",
      "|     Dani de Wit|               AZ|     CAM|     94|\n",
      "|  Lo'eau LaBonta|       KC Current|      CM|     94|\n",
      "|  Bernardo Silva|  Manchester City|      CM|     93|\n",
      "+----------------+-----------------+--------+-------+\n",
      "\n"
     ]
    }
   ],
   "source": [
    "spark.sql(\n",
    "\"\"\"\n",
    "SELECT Name, Club, Position, Stamina\n",
    "FROM fifa\n",
    "ORDER BY Stamina DESC\n",
    "LIMIT 10;\n",
    "\n",
    "\"\"\").show()"
   ]
  },
  {
   "cell_type": "markdown",
   "id": "383a4a6e",
   "metadata": {},
   "source": [
    "## Business Case 14: Analysis of Players' Reactions <br>\n",
    "#### Objective: Analyze the distribution of players' reaction attributes."
   ]
  },
  {
   "cell_type": "code",
   "execution_count": 29,
   "id": "e666de0b",
   "metadata": {},
   "outputs": [
    {
     "name": "stdout",
     "output_type": "stream",
     "text": [
      "+------------------+-----------------+--------+---------+\n",
      "|              Name|             Club|Position|Reactions|\n",
      "+------------------+-----------------+--------+---------+\n",
      "|    Erling Haaland|  Manchester City|      ST|       94|\n",
      "|     Kylian Mbappé|         Paris SG|      ST|       93|\n",
      "|        Harry Kane|FC Bayern München|      ST|       93|\n",
      "|Robert Lewandowski|     FC Barcelona|      ST|       93|\n",
      "|     Mohamed Salah|        Liverpool|      RW|       93|\n",
      "|     Thomas Müller|FC Bayern München|     CAM|       93|\n",
      "|   Kevin De Bruyne|  Manchester City|      CM|       92|\n",
      "|     Karim Benzema|       Al Ittihad|      CF|       92|\n",
      "|   Alexia Putellas|     FC Barcelona|      CM|       92|\n",
      "|   Bruno Fernandes|   Manchester Utd|     CAM|       91|\n",
      "+------------------+-----------------+--------+---------+\n",
      "\n"
     ]
    }
   ],
   "source": [
    "spark.sql(\n",
    "\"\"\"\n",
    "SELECT Name, Club, Position, Reactions\n",
    "FROM fifa\n",
    "ORDER BY Reactions DESC\n",
    "LIMIT 10;\n",
    "\n",
    "\"\"\").show()"
   ]
  },
  {
   "cell_type": "markdown",
   "id": "783523a8",
   "metadata": {},
   "source": [
    "## Business Case 15: Players with High Agility and Balance <br>\n",
    "#### Objective: Identify players with high agility and balance attributes."
   ]
  },
  {
   "cell_type": "code",
   "execution_count": 30,
   "id": "85ddea49",
   "metadata": {},
   "outputs": [
    {
     "name": "stdout",
     "output_type": "stream",
     "text": [
      "+-----------------+------------------+--------+-------+-------+\n",
      "|             Name|              Club|Position|Agility|Balance|\n",
      "+-----------------+------------------+--------+-------+-------+\n",
      "|    Kylian Mbappé|          Paris SG|      ST|     93|     82|\n",
      "|  Alexia Putellas|      FC Barcelona|      CM|     90|     89|\n",
      "|     Lionel Messi|    Inter Miami CF|      CF|     91|     95|\n",
      "|   Aitana Bonmatí|      FC Barcelona|      CM|     93|     86|\n",
      "|         Sam Kerr|           Chelsea|      ST|     90|     82|\n",
      "|    Mohamed Salah|         Liverpool|      RW|     89|     91|\n",
      "|         Vini Jr.|       Real Madrid|      LW|     94|     84|\n",
      "|        Neymar Jr|          Al Hilal|      LW|     93|     83|\n",
      "| Kadidiatou Diani|                OL|      RW|     89|     84|\n",
      "|Antoine Griezmann|Atlético de Madrid|      ST|     89|     84|\n",
      "+-----------------+------------------+--------+-------+-------+\n",
      "\n"
     ]
    }
   ],
   "source": [
    "spark.sql(\n",
    "\"\"\"\n",
    "SELECT Name, Club, Position, Agility, Balance\n",
    "FROM fifa\n",
    "WHERE Agility > 80 AND Balance > 80\n",
    "ORDER BY Overall DESC\n",
    "LIMIT 10;\n",
    "\"\"\").show()"
   ]
  }
 ],
 "metadata": {
  "kernelspec": {
   "display_name": "Pyspark 3",
   "language": "python",
   "name": "pyspark3"
  },
  "language_info": {
   "codemirror_mode": {
    "name": "ipython",
    "version": 3
   },
   "file_extension": ".py",
   "mimetype": "text/x-python",
   "name": "python",
   "nbconvert_exporter": "python",
   "pygments_lexer": "ipython3",
   "version": "3.6.12"
  }
 },
 "nbformat": 4,
 "nbformat_minor": 5
}
